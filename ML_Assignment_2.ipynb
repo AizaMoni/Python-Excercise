{
 "cells": [
  {
   "cell_type": "markdown",
   "id": "b2876ce1",
   "metadata": {},
   "source": [
    "# Take values of the length & breadth of a rectangle from user input and check if it is square or not"
   ]
  },
  {
   "cell_type": "code",
   "execution_count": 11,
   "id": "3e987f73",
   "metadata": {},
   "outputs": [
    {
     "name": "stdout",
     "output_type": "stream",
     "text": [
      "Enter the length of the rectangle: 56\n",
      "Enter the breadth of the rectangle: 34\n",
      "The rectangle is not a square.\n"
     ]
    }
   ],
   "source": [
    "def main():\n",
    "    length = float(input(\"Enter the length of the rectangle: \"))\n",
    "    breadth = float(input(\"Enter the breadth of the rectangle: \"))\n",
    "\n",
    "    if length == breadth:\n",
    "        print(\"The rectangle is a square.\")\n",
    "    else:\n",
    "        print(\"The rectangle is not a square.\")\n",
    "\n",
    "if __name__ == \"__main__\":\n",
    "    main()\n"
   ]
  },
  {
   "cell_type": "markdown",
   "id": "f53bf89e",
   "metadata": {},
   "source": [
    "# Take three integer values from the user and print the greatest among them."
   ]
  },
  {
   "cell_type": "code",
   "execution_count": 12,
   "id": "187be346",
   "metadata": {},
   "outputs": [
    {
     "name": "stdout",
     "output_type": "stream",
     "text": [
      "Enter first number: 48\n",
      "Enter second number: 65\n",
      "Enter third number: 78\n",
      "The largest number is 78.0\n"
     ]
    }
   ],
   "source": [
    "\n",
    "num1 = float(input(\"Enter first number: \"))\n",
    "num2 = float(input(\"Enter second number: \"))\n",
    "num3 = float(input(\"Enter third number: \"))\n",
    "\n",
    "if (num1 >= num2) and (num1 >= num3):\n",
    "   largest = num1\n",
    "elif (num2 >= num1) and (num2 >= num3):\n",
    "   largest = num2\n",
    "else:\n",
    "   largest = num3\n",
    "\n",
    "print(\"The largest number is\", largest)"
   ]
  },
  {
   "cell_type": "markdown",
   "id": "7ecee303",
   "metadata": {},
   "source": [
    "# A student will not be allowed to sit in an exam if his/her attendance is less than 75%."
   ]
  },
  {
   "cell_type": "code",
   "execution_count": 1,
   "id": "ffa3d98e",
   "metadata": {},
   "outputs": [
    {
     "name": "stdout",
     "output_type": "stream",
     "text": [
      "Enter the student's attendance percentage: 80\n",
      "The student is allowed to sit in the exam.\n"
     ]
    }
   ],
   "source": [
    "def is_allowed_to_exam(attendance_percentage):\n",
    "    minimum_attendance_percentage = 75\n",
    "    return attendance_percentage >= minimum_attendance_percentage\n",
    "def main():\n",
    "    attendance = float(input(\"Enter the student's attendance percentage: \"))\n",
    " # Checking if the student is allowed to sit in the exam\n",
    "    if is_allowed_to_exam(attendance):\n",
    "        print(\"The student is allowed to sit in the exam.\")\n",
    "    else:\n",
    "        print(\"The student is not allowed to sit in the exam due to low attendance.\")\n",
    "if __name__ == \"__main__\":\n",
    "    main()\n"
   ]
  },
  {
   "cell_type": "markdown",
   "id": "fc3f7f59",
   "metadata": {},
   "source": [
    "# A school has the following rules for the grading system:\n",
    "Below 25 – F, 25 to 44 – E, 45 to 49 – D, 50 to 59 – C, 60 to 79 – B, 80 to 89 - A, Above 90 - A+"
   ]
  },
  {
   "cell_type": "code",
   "execution_count": 2,
   "id": "b433e253",
   "metadata": {},
   "outputs": [
    {
     "name": "stdout",
     "output_type": "stream",
     "text": [
      "Enter the marks: 90\n",
      "Your grade is: A+\n"
     ]
    }
   ],
   "source": [
    "def calculate_grade(marks):\n",
    "    if marks < 25:\n",
    "        return \"F\"\n",
    "    elif 25 <= marks < 45:\n",
    "        return \"E\"\n",
    "    elif 45 <= marks < 50:\n",
    "        return \"D\"\n",
    "    elif 50 <= marks < 60:\n",
    "        return \"C\"\n",
    "    elif 60 <= marks < 80:\n",
    "        return \"B\"\n",
    "    elif 80 <= marks < 90:\n",
    "        return \"A\"\n",
    "    else:\n",
    "        return \"A+\"\n",
    "\n",
    "def main():\n",
    "    # Taking marks as input from the user\n",
    "    marks = float(input(\"Enter the marks: \"))\n",
    "\n",
    "    # Calculating and printing the corresponding grade\n",
    "    grade = calculate_grade(marks)\n",
    "    print(\"Your grade is:\", grade)\n",
    "\n",
    "if __name__ == \"__main__\":\n",
    "    main()\n"
   ]
  },
  {
   "cell_type": "markdown",
   "id": "675fe071",
   "metadata": {},
   "source": [
    "#  Print the following pattern using for and while loop."
   ]
  },
  {
   "cell_type": "code",
   "execution_count": 3,
   "id": "0996ccd3",
   "metadata": {},
   "outputs": [
    {
     "name": "stdout",
     "output_type": "stream",
     "text": [
      "1 2 3 4 5 6 7 \n",
      "1 2 3 4 5 6 \n",
      "1 2 3 4 5 \n",
      "1 2 3 4 \n",
      "1 2 3 \n",
      "1 2 \n",
      "1 \n"
     ]
    }
   ],
   "source": [
    "def print_pattern_with_for_loop(rows):\n",
    "    for i in range(rows, 0, -1):\n",
    "        for j in range(1, i + 1):\n",
    "            print(j, end=' ')\n",
    "        print()\n",
    "\n",
    "rows = 7\n",
    "print_pattern_with_for_loop(rows)\n"
   ]
  },
  {
   "cell_type": "code",
   "execution_count": 17,
   "id": "0b091a7b",
   "metadata": {},
   "outputs": [
    {
     "name": "stdout",
     "output_type": "stream",
     "text": [
      "1 2 3 4 5 6 7 \n",
      "1 2 3 4 5 6 \n",
      "1 2 3 4 5 \n",
      "1 2 3 4 \n",
      "1 2 3 \n",
      "1 2 \n",
      "1 \n"
     ]
    }
   ],
   "source": [
    "def print_pattern_with_while_loop(rows):\n",
    "    i = rows\n",
    "    while i > 0:\n",
    "        j = 1\n",
    "        while j <= i:\n",
    "            print(j, end=' ')\n",
    "            j += 1\n",
    "        print()\n",
    "        i -= 1\n",
    "\n",
    "rows = 7\n",
    "print_pattern_with_while_loop(rows)\n"
   ]
  },
  {
   "cell_type": "markdown",
   "id": "3c8a214a",
   "metadata": {},
   "source": [
    "# Display numbers from -100 to -10 using for loop."
   ]
  },
  {
   "cell_type": "code",
   "execution_count": 18,
   "id": "9eb6de29",
   "metadata": {},
   "outputs": [
    {
     "name": "stdout",
     "output_type": "stream",
     "text": [
      "-100 -99 -98 -97 -96 -95 -94 -93 -92 -91 -90 -89 -88 -87 -86 -85 -84 -83 -82 -81 -80 -79 -78 -77 -76 -75 -74 -73 -72 -71 -70 -69 -68 -67 -66 -65 -64 -63 -62 -61 -60 -59 -58 -57 -56 -55 -54 -53 -52 -51 -50 -49 -48 -47 -46 -45 -44 -43 -42 -41 -40 -39 -38 -37 -36 -35 -34 -33 -32 -31 -30 -29 -28 -27 -26 -25 -24 -23 -22 -21 -20 -19 -18 -17 -16 -15 -14 -13 -12 -11 -10 "
     ]
    }
   ],
   "source": [
    "for num in range(-100, -9):\n",
    "    print(num, end=' ')"
   ]
  },
  {
   "cell_type": "markdown",
   "id": "4f6a8d96",
   "metadata": {},
   "source": [
    "# Write a program to sum all prime numbers within a range of 10 to 1000."
   ]
  },
  {
   "cell_type": "code",
   "execution_count": 19,
   "id": "4abf7e0c",
   "metadata": {},
   "outputs": [
    {
     "name": "stdout",
     "output_type": "stream",
     "text": [
      "The sum of all prime numbers from 10 to 1000 is: 76110\n"
     ]
    }
   ],
   "source": [
    "def is_prime(number):\n",
    "    if number <= 1:\n",
    "        return False\n",
    "    for i in range(2, int(number ** 0.5) + 1):\n",
    "        if number % i == 0:\n",
    "            return False\n",
    "    return True\n",
    "\n",
    "def sum_primes_in_range(start, end):\n",
    "    prime_sum = 0\n",
    "    for num in range(start, end + 1):\n",
    "        if is_prime(num):\n",
    "            prime_sum += num\n",
    "    return prime_sum\n",
    "\n",
    "def main():\n",
    "    start_range = 10\n",
    "    end_range = 1000\n",
    "    total_sum = sum_primes_in_range(start_range, end_range)\n",
    "    print(f\"The sum of all prime numbers from {start_range} to {end_range} is: {total_sum}\")\n",
    "\n",
    "if __name__ == \"__main__\":\n",
    "    main()\n"
   ]
  },
  {
   "cell_type": "markdown",
   "id": "15583067",
   "metadata": {},
   "source": [
    "# Find the factorial of an n! (Hint, n=7: 7*6*5*4*3*2*1)."
   ]
  },
  {
   "cell_type": "code",
   "execution_count": 20,
   "id": "ae90585f",
   "metadata": {},
   "outputs": [
    {
     "name": "stdout",
     "output_type": "stream",
     "text": [
      "The factorial of 7! is: 5040\n"
     ]
    }
   ],
   "source": [
    "def factorial(n):\n",
    "    if n == 0:\n",
    "        return 1\n",
    "    result = 1\n",
    "    for i in range(1, n + 1):\n",
    "        result *= i\n",
    "    return result\n",
    "\n",
    "n = 7\n",
    "factorial_of_n = factorial(n)\n",
    "print(f\"The factorial of {n}! is: {factorial_of_n}\")\n"
   ]
  },
  {
   "cell_type": "markdown",
   "id": "2bb35502",
   "metadata": {},
   "source": [
    "# Reverse a given integer number 27956240710.\n"
   ]
  },
  {
   "cell_type": "code",
   "execution_count": 21,
   "id": "d5f33e49",
   "metadata": {},
   "outputs": [
    {
     "name": "stdout",
     "output_type": "stream",
     "text": [
      "Given number: 27956240710\n",
      "Reversed number: 1704265972\n"
     ]
    }
   ],
   "source": [
    "def reverse_integer(number):\n",
    "    # Convert the number to a string, reverse it, and convert back to integer\n",
    "    reversed_number = int(str(number)[::-1])\n",
    "    return reversed_number\n",
    "\n",
    "given_number = 27956240710\n",
    "reversed_number = reverse_integer(given_number)\n",
    "print(\"Given number:\", given_number)\n",
    "print(\"Reversed number:\", reversed_number)"
   ]
  },
  {
   "cell_type": "markdown",
   "id": "2eba5770",
   "metadata": {},
   "source": [
    "#  Print the following pattern using for and while loop."
   ]
  },
  {
   "cell_type": "code",
   "execution_count": 22,
   "id": "4862e5aa",
   "metadata": {},
   "outputs": [
    {
     "name": "stdout",
     "output_type": "stream",
     "text": [
      "# \n",
      "# # \n",
      "# # # \n",
      "# # # # \n"
     ]
    }
   ],
   "source": [
    "def print_pattern_with_for_loop(rows):\n",
    "    for i in range(1, rows + 1):\n",
    "        for j in range(1, i + 1):\n",
    "            print(\"#\", end=' ')\n",
    "        print()\n",
    "\n",
    "rows = 4\n",
    "print_pattern_with_for_loop(rows)\n"
   ]
  },
  {
   "cell_type": "markdown",
   "id": "3b07de9e",
   "metadata": {},
   "source": [
    "# Display the Fibonacci series of 15 elements using the for and while loop"
   ]
  },
  {
   "cell_type": "code",
   "execution_count": 23,
   "id": "076ca6b3",
   "metadata": {},
   "outputs": [
    {
     "name": "stdout",
     "output_type": "stream",
     "text": [
      "Fibonacci series using for loop: [0, 1, 1, 2, 3, 5, 8, 13, 21, 34, 55, 89, 144, 233, 377]\n"
     ]
    }
   ],
   "source": [
    "def fibonacci_with_for_loop(n):\n",
    "    fib_series = [0, 1]\n",
    "\n",
    "    for i in range(2, n):\n",
    "        next_num = fib_series[-1] + fib_series[-2]\n",
    "        fib_series.append(next_num)\n",
    "\n",
    "    return fib_series\n",
    "\n",
    "n = 15\n",
    "fibonacci_series = fibonacci_with_for_loop(n)\n",
    "print(\"Fibonacci series using for loop:\", fibonacci_series)\n"
   ]
  },
  {
   "cell_type": "markdown",
   "id": "d5f0f9b5",
   "metadata": {},
   "source": [
    "#  Remove 2 and add 3 to the list and replace True with False.\n",
    "Li = [1,3,5, [2,3], True]\n",
    "Output = [1,3,5, [3,3], False]\n"
   ]
  },
  {
   "cell_type": "code",
   "execution_count": 4,
   "id": "38183454",
   "metadata": {},
   "outputs": [
    {
     "name": "stdout",
     "output_type": "stream",
     "text": [
      "[1, 3, 5, [3, 3], False]\n"
     ]
    }
   ],
   "source": [
    "Li = [1, 3, 5, [2, 3], True]\n",
    "\n",
    "# Remove 2 and add 3 to the list\n",
    "Li[3][0] = 3\n",
    "\n",
    "# Replace True with False\n",
    "Li[-1] = False\n",
    "\n",
    "print(Li)"
   ]
  },
  {
   "cell_type": "markdown",
   "id": "26f00329",
   "metadata": {},
   "source": [
    "# Find the intersection (common) of two sets.\n",
    "S1 = {1,4,6,8}\n",
    "S2 = {True, 1,2,10"
   ]
  },
  {
   "cell_type": "code",
   "execution_count": 6,
   "id": "0cade225",
   "metadata": {},
   "outputs": [
    {
     "name": "stdout",
     "output_type": "stream",
     "text": [
      "{True}\n"
     ]
    }
   ],
   "source": [
    "S1 = {1, 4, 6, 8}\n",
    "S2 = {True, 1, 2, 10}\n",
    "\n",
    "intersection = S1.intersection(S2)\n",
    "\n",
    "print(intersection)\n"
   ]
  },
  {
   "cell_type": "markdown",
   "id": "d77abc88",
   "metadata": {},
   "source": [
    "# Rename the key of a dictionary.\n",
    "Dict = { \"name\": \"Shakil\", \"age\":27, \"city\": “Berlin”, \"country\": \"Germany\" }\n",
    "Write a program to rename a key ‘country’ to a ‘region’ in the following dictionary.\n"
   ]
  },
  {
   "cell_type": "code",
   "execution_count": 7,
   "id": "53a3a8e8",
   "metadata": {},
   "outputs": [
    {
     "name": "stdout",
     "output_type": "stream",
     "text": [
      "{'name': 'Shakil', 'age': 27, 'city': 'Berlin', 'region': 'Germany'}\n"
     ]
    }
   ],
   "source": [
    "Dict = {\"name\": \"Shakil\", \"age\": 27, \"city\": \"Berlin\", \"country\": \"Germany\"}\n",
    "\n",
    "# Rename the key 'country' to 'region'\n",
    "Dict['region'] = Dict.pop('country')\n",
    "\n",
    "print(Dict)\n"
   ]
  },
  {
   "cell_type": "markdown",
   "id": "815963d8",
   "metadata": {},
   "source": [
    "# . Creating a data frame using the list.\n",
    "num = [10,100,300] (column name is number"
   ]
  },
  {
   "cell_type": "code",
   "execution_count": 8,
   "id": "6cde1ae7",
   "metadata": {},
   "outputs": [
    {
     "name": "stdout",
     "output_type": "stream",
     "text": [
      "Defaulting to user installation because normal site-packages is not writeable\n",
      "Requirement already satisfied: pandas in c:\\programdata\\anaconda3\\lib\\site-packages (1.4.2)\n",
      "Requirement already satisfied: python-dateutil>=2.8.1 in c:\\programdata\\anaconda3\\lib\\site-packages (from pandas) (2.8.2)\n",
      "Requirement already satisfied: numpy>=1.18.5 in c:\\programdata\\anaconda3\\lib\\site-packages (from pandas) (1.21.5)\n",
      "Requirement already satisfied: pytz>=2020.1 in c:\\programdata\\anaconda3\\lib\\site-packages (from pandas) (2021.3)\n",
      "Requirement already satisfied: six>=1.5 in c:\\programdata\\anaconda3\\lib\\site-packages (from python-dateutil>=2.8.1->pandas) (1.16.0)\n",
      "Note: you may need to restart the kernel to use updated packages.\n"
     ]
    }
   ],
   "source": [
    "pip install pandas"
   ]
  },
  {
   "cell_type": "code",
   "execution_count": 9,
   "id": "97e41076",
   "metadata": {},
   "outputs": [
    {
     "name": "stdout",
     "output_type": "stream",
     "text": [
      "   number\n",
      "0      10\n",
      "1     100\n",
      "2     300\n"
     ]
    }
   ],
   "source": [
    "import pandas as pd\n",
    "\n",
    "num = [10, 100, 300]\n",
    "data = {'number': num}\n",
    "\n",
    "df = pd.DataFrame(data)\n",
    "\n",
    "print(df)\n"
   ]
  },
  {
   "cell_type": "markdown",
   "id": "a7f3dd52",
   "metadata": {},
   "source": [
    "# Change the value of a key in a given dictionary.\n",
    "Write a Python program to change ‘age’ to 28 in the following dictionary.\n",
    "Dict = { \"name\": \"Shakil\", \"age\":27, \"city\": “Berlin”, \"country\": \"Germany\" "
   ]
  },
  {
   "cell_type": "code",
   "execution_count": 11,
   "id": "88e555bd",
   "metadata": {},
   "outputs": [
    {
     "name": "stdout",
     "output_type": "stream",
     "text": [
      "{'name': 'Shakil', 'age': 28, 'city': 'Berlin', 'country': 'Germany'}\n"
     ]
    }
   ],
   "source": [
    "Dict = {\"name\": \"Shakil\", \"age\": 27, \"city\": \"Berlin\", \"country\": \"Germany\"}\n",
    "\n",
    "# Change the value of the key 'age' to 28\n",
    "Dict['age'] = 28\n",
    "\n",
    "print(Dict)\n"
   ]
  },
  {
   "cell_type": "code",
   "execution_count": null,
   "id": "0ab78055",
   "metadata": {},
   "outputs": [],
   "source": []
  }
 ],
 "metadata": {
  "kernelspec": {
   "display_name": "Python 3 (ipykernel)",
   "language": "python",
   "name": "python3"
  },
  "language_info": {
   "codemirror_mode": {
    "name": "ipython",
    "version": 3
   },
   "file_extension": ".py",
   "mimetype": "text/x-python",
   "name": "python",
   "nbconvert_exporter": "python",
   "pygments_lexer": "ipython3",
   "version": "3.9.12"
  }
 },
 "nbformat": 4,
 "nbformat_minor": 5
}
